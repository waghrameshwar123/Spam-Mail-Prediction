{
  "nbformat": 4,
  "nbformat_minor": 0,
  "metadata": {
    "colab": {
      "name": "Spam Mail Prediction.ipynb",
      "provenance": [],
      "collapsed_sections": [],
      "include_colab_link": true
    },
    "kernelspec": {
      "name": "python3",
      "display_name": "Python 3"
    }
  },
  "cells": [
    {
      "cell_type": "markdown",
      "metadata": {
        "id": "view-in-github",
        "colab_type": "text"
      },
      "source": [
        "<a href=\"https://colab.research.google.com/github/waghrameshwar123/Spam-Mail-Prediction/blob/main/Spam_Mail_Prediction.ipynb\" target=\"_parent\"><img src=\"https://colab.research.google.com/assets/colab-badge.svg\" alt=\"Open In Colab\"/></a>"
      ]
    },
    {
      "cell_type": "code",
      "metadata": {
        "id": "hOrQqbLF6jpV"
      },
      "source": [
        "#Import Libraries\r\n",
        "import numpy as np\r\n",
        "import pandas as pd\r\n",
        "from sklearn.model_selection import  train_test_split\r\n",
        "from sklearn.feature_extraction.text import TfidfVectorizer\r\n",
        "from sklearn.svm import LinearSVC\r\n",
        "from sklearn.metrics import accuracy_score"
      ],
      "execution_count": 28,
      "outputs": []
    },
    {
      "cell_type": "markdown",
      "metadata": {
        "id": "7zOixfhV9BrJ"
      },
      "source": [
        "\r\n",
        "Data Preprocessing"
      ]
    },
    {
      "cell_type": "code",
      "metadata": {
        "id": "h4r2vKpC9dKb"
      },
      "source": [
        "#load the dataset to pandas data frame\r\n",
        "raw_mail_data =pd.read_csv('spam.csv',encoding='latin-1')\r\n",
        "# replace the null values with a null string\r\n",
        "mail_data = raw_mail_data.where((pd.notnull(raw_mail_data)),'')"
      ],
      "execution_count": 29,
      "outputs": []
    },
    {
      "cell_type": "code",
      "metadata": {
        "colab": {
          "base_uri": "https://localhost:8080/"
        },
        "id": "Xu5xlr9MAAaZ",
        "outputId": "59f3262d-fdb3-44b2-b685-01ce07e0d47c"
      },
      "source": [
        "mail_data.shape"
      ],
      "execution_count": 30,
      "outputs": [
        {
          "output_type": "execute_result",
          "data": {
            "text/plain": [
              "(5572, 5)"
            ]
          },
          "metadata": {
            "tags": []
          },
          "execution_count": 30
        }
      ]
    },
    {
      "cell_type": "code",
      "metadata": {
        "colab": {
          "base_uri": "https://localhost:8080/",
          "height": 204
        },
        "id": "H-3kHFcpDQtH",
        "outputId": "473ad1cc-6153-4961-81dd-57b80243753e"
      },
      "source": [
        "mail_data.head()#sample data"
      ],
      "execution_count": 31,
      "outputs": [
        {
          "output_type": "execute_result",
          "data": {
            "text/html": [
              "<div>\n",
              "<style scoped>\n",
              "    .dataframe tbody tr th:only-of-type {\n",
              "        vertical-align: middle;\n",
              "    }\n",
              "\n",
              "    .dataframe tbody tr th {\n",
              "        vertical-align: top;\n",
              "    }\n",
              "\n",
              "    .dataframe thead th {\n",
              "        text-align: right;\n",
              "    }\n",
              "</style>\n",
              "<table border=\"1\" class=\"dataframe\">\n",
              "  <thead>\n",
              "    <tr style=\"text-align: right;\">\n",
              "      <th></th>\n",
              "      <th>v1</th>\n",
              "      <th>v2</th>\n",
              "      <th>Unnamed: 2</th>\n",
              "      <th>Unnamed: 3</th>\n",
              "      <th>Unnamed: 4</th>\n",
              "    </tr>\n",
              "  </thead>\n",
              "  <tbody>\n",
              "    <tr>\n",
              "      <th>0</th>\n",
              "      <td>ham</td>\n",
              "      <td>Go until jurong point, crazy.. Available only ...</td>\n",
              "      <td></td>\n",
              "      <td></td>\n",
              "      <td></td>\n",
              "    </tr>\n",
              "    <tr>\n",
              "      <th>1</th>\n",
              "      <td>ham</td>\n",
              "      <td>Ok lar... Joking wif u oni...</td>\n",
              "      <td></td>\n",
              "      <td></td>\n",
              "      <td></td>\n",
              "    </tr>\n",
              "    <tr>\n",
              "      <th>2</th>\n",
              "      <td>spam</td>\n",
              "      <td>Free entry in 2 a wkly comp to win FA Cup fina...</td>\n",
              "      <td></td>\n",
              "      <td></td>\n",
              "      <td></td>\n",
              "    </tr>\n",
              "    <tr>\n",
              "      <th>3</th>\n",
              "      <td>ham</td>\n",
              "      <td>U dun say so early hor... U c already then say...</td>\n",
              "      <td></td>\n",
              "      <td></td>\n",
              "      <td></td>\n",
              "    </tr>\n",
              "    <tr>\n",
              "      <th>4</th>\n",
              "      <td>ham</td>\n",
              "      <td>Nah I don't think he goes to usf, he lives aro...</td>\n",
              "      <td></td>\n",
              "      <td></td>\n",
              "      <td></td>\n",
              "    </tr>\n",
              "  </tbody>\n",
              "</table>\n",
              "</div>"
            ],
            "text/plain": [
              "     v1  ... Unnamed: 4\n",
              "0   ham  ...           \n",
              "1   ham  ...           \n",
              "2  spam  ...           \n",
              "3   ham  ...           \n",
              "4   ham  ...           \n",
              "\n",
              "[5 rows x 5 columns]"
            ]
          },
          "metadata": {
            "tags": []
          },
          "execution_count": 31
        }
      ]
    },
    {
      "cell_type": "code",
      "metadata": {
        "colab": {
          "base_uri": "https://localhost:8080/",
          "height": 204
        },
        "id": "irFw6dX6DVI6",
        "outputId": "541417c9-53f8-40c6-a72e-c1f8bac0e4af"
      },
      "source": [
        "#label spam mail as 0; non spam mail(ham) mail as 1\r\n",
        "mail_data=mail_data[['v1','v2']]\r\n",
        "mail_data.rename(columns={'v1':'Category', 'v2':'Message'}, inplace=True)\r\n",
        "\r\n",
        "\r\n",
        "mail_data.loc[mail_data[\"Category\"]==\"spam\",\"Category\",]=0\r\n",
        "mail_data.loc[mail_data[\"Category\"]==\"ham\",\"Category\",]=1\r\n",
        "\r\n",
        "mail_data.head()"
      ],
      "execution_count": 32,
      "outputs": [
        {
          "output_type": "execute_result",
          "data": {
            "text/html": [
              "<div>\n",
              "<style scoped>\n",
              "    .dataframe tbody tr th:only-of-type {\n",
              "        vertical-align: middle;\n",
              "    }\n",
              "\n",
              "    .dataframe tbody tr th {\n",
              "        vertical-align: top;\n",
              "    }\n",
              "\n",
              "    .dataframe thead th {\n",
              "        text-align: right;\n",
              "    }\n",
              "</style>\n",
              "<table border=\"1\" class=\"dataframe\">\n",
              "  <thead>\n",
              "    <tr style=\"text-align: right;\">\n",
              "      <th></th>\n",
              "      <th>Category</th>\n",
              "      <th>Message</th>\n",
              "    </tr>\n",
              "  </thead>\n",
              "  <tbody>\n",
              "    <tr>\n",
              "      <th>0</th>\n",
              "      <td>1</td>\n",
              "      <td>Go until jurong point, crazy.. Available only ...</td>\n",
              "    </tr>\n",
              "    <tr>\n",
              "      <th>1</th>\n",
              "      <td>1</td>\n",
              "      <td>Ok lar... Joking wif u oni...</td>\n",
              "    </tr>\n",
              "    <tr>\n",
              "      <th>2</th>\n",
              "      <td>0</td>\n",
              "      <td>Free entry in 2 a wkly comp to win FA Cup fina...</td>\n",
              "    </tr>\n",
              "    <tr>\n",
              "      <th>3</th>\n",
              "      <td>1</td>\n",
              "      <td>U dun say so early hor... U c already then say...</td>\n",
              "    </tr>\n",
              "    <tr>\n",
              "      <th>4</th>\n",
              "      <td>1</td>\n",
              "      <td>Nah I don't think he goes to usf, he lives aro...</td>\n",
              "    </tr>\n",
              "  </tbody>\n",
              "</table>\n",
              "</div>"
            ],
            "text/plain": [
              "  Category                                            Message\n",
              "0        1  Go until jurong point, crazy.. Available only ...\n",
              "1        1                      Ok lar... Joking wif u oni...\n",
              "2        0  Free entry in 2 a wkly comp to win FA Cup fina...\n",
              "3        1  U dun say so early hor... U c already then say...\n",
              "4        1  Nah I don't think he goes to usf, he lives aro..."
            ]
          },
          "metadata": {
            "tags": []
          },
          "execution_count": 32
        }
      ]
    },
    {
      "cell_type": "code",
      "metadata": {
        "id": "C1S8M50DDywI"
      },
      "source": [
        "#separate the data as text and label. x--> text, y--> label\r\n",
        "x= mail_data['Message']\r\n",
        "y= mail_data['Category']"
      ],
      "execution_count": 33,
      "outputs": []
    },
    {
      "cell_type": "code",
      "metadata": {
        "colab": {
          "base_uri": "https://localhost:8080/"
        },
        "id": "2kU41BjoMxvx",
        "outputId": "17aabf64-03aa-4308-ac22-1fa97036bd5c"
      },
      "source": [
        "print(x)\r\n",
        "print('')\r\n",
        "print(y)"
      ],
      "execution_count": 34,
      "outputs": [
        {
          "output_type": "stream",
          "text": [
            "0       Go until jurong point, crazy.. Available only ...\n",
            "1                           Ok lar... Joking wif u oni...\n",
            "2       Free entry in 2 a wkly comp to win FA Cup fina...\n",
            "3       U dun say so early hor... U c already then say...\n",
            "4       Nah I don't think he goes to usf, he lives aro...\n",
            "                              ...                        \n",
            "5567    This is the 2nd time we have tried 2 contact u...\n",
            "5568                Will Ì_ b going to esplanade fr home?\n",
            "5569    Pity, * was in mood for that. So...any other s...\n",
            "5570    The guy did some bitching but I acted like i'd...\n",
            "5571                           Rofl. Its true to its name\n",
            "Name: Message, Length: 5572, dtype: object\n",
            "\n",
            "0       1\n",
            "1       1\n",
            "2       0\n",
            "3       1\n",
            "4       1\n",
            "       ..\n",
            "5567    0\n",
            "5568    1\n",
            "5569    1\n",
            "5570    1\n",
            "5571    1\n",
            "Name: Category, Length: 5572, dtype: object\n"
          ],
          "name": "stdout"
        }
      ]
    },
    {
      "cell_type": "markdown",
      "metadata": {
        "id": "ZwnuHWe5Obtd"
      },
      "source": [
        "Train Test Split"
      ]
    },
    {
      "cell_type": "code",
      "metadata": {
        "id": "Ba6Hg3sBNFc9"
      },
      "source": [
        "# split the data as train and test data\r\n",
        "x_train, x_test, y_train, y_test = train_test_split(x, y, train_size=0.8, test_size=0.2, random_state=3)"
      ],
      "execution_count": 35,
      "outputs": []
    },
    {
      "cell_type": "code",
      "metadata": {
        "id": "yTf7bT4xxQuc"
      },
      "source": [
        "# transform the text data to feature vactors that can be used as input to the SVM model using TfidfVectorizer\r\n",
        "# convert the next to lower case letters\r\n",
        "feature_extraction = TfidfVectorizer(min_df=1, stop_words='english', lowercase='True')\r\n",
        "x_train_features = feature_extraction.fit_transform(x_train)\r\n",
        "x_test_features = feature_extraction.transform(x_test)\r\n",
        "\r\n",
        "\r\n",
        "\r\n",
        "#convert y_train and y_test value as integers\r\n",
        "y_train = y_train.astype('int')\r\n",
        "y_test = y_test.astype('int')"
      ],
      "execution_count": 47,
      "outputs": []
    },
    {
      "cell_type": "markdown",
      "metadata": {
        "id": "2Z___RVkOGB-"
      },
      "source": [
        "**Training the model -> Support Vector Machine**"
      ]
    },
    {
      "cell_type": "code",
      "metadata": {
        "colab": {
          "base_uri": "https://localhost:8080/"
        },
        "id": "TXeWQMo5zAmJ",
        "outputId": "2e4bcb7b-f25b-426b-ea72-91e2b251a864"
      },
      "source": [
        "#training the support vector machine model with training data\r\n",
        "model = LinearSVC()\r\n",
        "model.fit(x_train_features, y_train)"
      ],
      "execution_count": 48,
      "outputs": [
        {
          "output_type": "execute_result",
          "data": {
            "text/plain": [
              "LinearSVC(C=1.0, class_weight=None, dual=True, fit_intercept=True,\n",
              "          intercept_scaling=1, loss='squared_hinge', max_iter=1000,\n",
              "          multi_class='ovr', penalty='l2', random_state=None, tol=0.0001,\n",
              "          verbose=0)"
            ]
          },
          "metadata": {
            "tags": []
          },
          "execution_count": 48
        }
      ]
    },
    {
      "cell_type": "code",
      "metadata": {
        "id": "D4b31FmFN8aV"
      },
      "source": [
        "#prediction on training data\r\n",
        "prediction_on_training_data = model.predict(x_train_features)\r\n",
        "accuracy_on_tarining_data = accuracy_score(y_train, prediction_on_training_data)"
      ],
      "execution_count": 49,
      "outputs": []
    },
    {
      "cell_type": "code",
      "metadata": {
        "colab": {
          "base_uri": "https://localhost:8080/"
        },
        "id": "cNekvCvRQqyz",
        "outputId": "d488e14d-ca39-4959-ba7e-273e3cf89364"
      },
      "source": [
        "print('Accuracy on training dataL', accuracy_on_tarining_data)"
      ],
      "execution_count": 50,
      "outputs": [
        {
          "output_type": "stream",
          "text": [
            "Accuracy on training dataL 0.9995512676688355\n"
          ],
          "name": "stdout"
        }
      ]
    },
    {
      "cell_type": "code",
      "metadata": {
        "id": "Me7-ofg_Q1FI"
      },
      "source": [
        "#prediction on test data\r\n",
        "prediction_on_test_data = model.predict(x_test_features)\r\n",
        "accuracy_on_test_data = accuracy_score(y_test, prediction_on_test_data)"
      ],
      "execution_count": 51,
      "outputs": []
    },
    {
      "cell_type": "code",
      "metadata": {
        "colab": {
          "base_uri": "https://localhost:8080/"
        },
        "id": "A2ZYYPmsRYIV",
        "outputId": "022661ec-aeb6-4f48-ba9a-c1e5203009c3"
      },
      "source": [
        "print('Accuracy on training dataL', accuracy_on_test_data)"
      ],
      "execution_count": 52,
      "outputs": [
        {
          "output_type": "stream",
          "text": [
            "Accuracy on training dataL 0.9856502242152466\n"
          ],
          "name": "stdout"
        }
      ]
    },
    {
      "cell_type": "markdown",
      "metadata": {
        "id": "CYUk19KPTiH5"
      },
      "source": [
        "**Prediction On New Mail**"
      ]
    },
    {
      "cell_type": "code",
      "metadata": {
        "colab": {
          "base_uri": "https://localhost:8080/"
        },
        "id": "vpNyOGabTZbq",
        "outputId": "a3e5ece6-08a8-4cb9-c293-c43e37a1880a"
      },
      "source": [
        "input_mail = [\"Go until jurong point, crazy.. Available only in bugis n great world la e buffet... Cine there got amore wat...\"]\r\n",
        "#convert text to feature Vector\r\n",
        "input_mail_features = feature_extraction.transform(input_mail)\r\n",
        "\r\n",
        "#making prediction\r\n",
        "\r\n",
        "prediction = model.predict(input_mail_features)\r\n",
        "print(prediction)\r\n",
        "\r\n",
        "if (prediction[0]==1):\r\n",
        "  print('Ham Mail')\r\n",
        "else:\r\n",
        "  print('Spam Mail')"
      ],
      "execution_count": 61,
      "outputs": [
        {
          "output_type": "stream",
          "text": [
            "[1]\n",
            "Ham Mail\n"
          ],
          "name": "stdout"
        }
      ]
    },
    {
      "cell_type": "code",
      "metadata": {
        "id": "wCQTJ-VHU36s"
      },
      "source": [
        ""
      ],
      "execution_count": null,
      "outputs": []
    }
  ]
}